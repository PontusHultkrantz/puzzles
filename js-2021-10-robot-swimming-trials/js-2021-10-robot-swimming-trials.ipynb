{
 "cells": [
  {
   "cell_type": "markdown",
   "metadata": {},
   "source": [
    "Pontus Hultkrantz"
   ]
  },
  {
   "cell_type": "markdown",
   "metadata": {},
   "source": [
    "# [October 2021 : Robot Swimming Trials](https://www.janestreet.com/puzzles/robot-swimming-trials-index/)"
   ]
  },
  {
   "cell_type": "markdown",
   "metadata": {},
   "source": [
    "<p>As we have <a href=\"https://www.janestreet.com/puzzles/robot-weightlifting-index/\">twice</a> <a href=\"https://www.janestreet.com/puzzles/robot-tug-of-war-index/\">before</a>, we find ourselves engrossed in a robot sports competition. In the Robot Swimming Trials, 3<em>N</em> identical robots compete for <em>N</em> equivalent spots in the finals by swimming <em>N</em> races. Each robot precommits to spending a certain amount of its fuel in each race. After all the races are run, the spots in the finals are given to the winners of the races, moving from the fastest winner to the slowest. (Once a robot wins a race, it is ineligible to win another race.) A robot’s speed is strictly increasing in the amount of fuel it spends, and ties are broken by randomly choosing the winner among the robots that have spent the same amount of fuel.</p>\n",
    "\n",
    "<p>Mathematically speaking, the 3<em>N</em> robots each submit a strategy, which is an <em>N</em>-tuple of nonnegative real number “bids” summing to 1, representing the fuel burned in each of the <em>N</em> races. The winners of the races are then determined from the highest bid (across all races and all robots) on down, with ties broken randomly. Once a robot wins a race their other bids are deleted, so we are guaranteed to get <em>N</em> distinct qualifiers for the finals.</p>\n",
    "\n",
    "<p>For example, suppose <em>N</em>=3 and the 3<em>N</em>=9 robots submit their strategies as</p>\n",
    "\n",
    "<table>\n",
    "  <thead>\n",
    "    <tr>\n",
    "      <th>Robot</th>\n",
    "      <th>Race 1  </th>\n",
    "      <th>Race 2  </th>\n",
    "      <th>Race 3  </th>\n",
    "    </tr>\n",
    "  </thead>\n",
    "  <tbody>\n",
    "    <tr>\n",
    "      <td>Automatonya  </td>\n",
    "      <td>0.6</td>\n",
    "      <td>0.1</td>\n",
    "      <td>0.3</td>\n",
    "    </tr>\n",
    "    <tr>\n",
    "      <td>Botty</td>\n",
    "      <td>0.6</td>\n",
    "      <td>0.3</td>\n",
    "      <td>0.1</td>\n",
    "    </tr>\n",
    "    <tr>\n",
    "      <td>Chroma</td>\n",
    "      <td>0</td>\n",
    "      <td>1</td>\n",
    "      <td>0</td>\n",
    "    </tr>\n",
    "    <tr>\n",
    "      <td>Data</td>\n",
    "      <td>0.3</td>\n",
    "      <td>0.5</td>\n",
    "      <td>0.2</td>\n",
    "    </tr>\n",
    "    <tr>\n",
    "      <td>Electro</td>\n",
    "      <td>0.2</td>\n",
    "      <td>0.8</td>\n",
    "      <td>0</td>\n",
    "    </tr>\n",
    "    <tr>\n",
    "      <td>Fernandroid</td>\n",
    "      <td>0.4</td>\n",
    "      <td>0.5</td>\n",
    "      <td>0.1</td>\n",
    "    </tr>\n",
    "    <tr>\n",
    "      <td>Gregulator</td>\n",
    "      <td>0.5</td>\n",
    "      <td>0.5</td>\n",
    "      <td>0</td>\n",
    "    </tr>\n",
    "    <tr>\n",
    "      <td>Hannanobot</td>\n",
    "      <td>0</td>\n",
    "      <td>0.9</td>\n",
    "      <td>0.1</td>\n",
    "    </tr>\n",
    "    <tr>\n",
    "      <td>IO</td>\n",
    "      <td>0.2</td>\n",
    "      <td>0.7</td>\n",
    "      <td>0.1</td>\n",
    "    </tr>\n",
    "  </tbody>\n",
    "</table>\n",
    "\n",
    "<p>The second race gets resolved first because Chroma’s bid of 1 is the highest overall, and Chroma is declared the winner of that time trial. Next, the first race is resolved because 0.6 is the highest remaining bid (we ignore the 0.9, 0.8, and 0.7 in the second race because it already has a winner). We flip a fair coin to determine who is the winner between Automatonya and Botty; say that Automatonya gets lucky and is declared the winner. Then the third race is decided, and Data is declared the winner, because 0.2 is the highest bid among robots that have not yet won (Automatonya’s 0.3 is ignored).</p>\n",
    "\n",
    "<p>Over the storied history of the RST, the metagame settled into what was widely believed to be the Nash equilibrium: each robot uniformly randomly selects a race and devotes all of their fuel to it. Let’s call this the <strong>discrete strategy</strong>. However, rumors are circulating that this conventional wisdom is not entirely accurate: for a large enough <em>N</em>, the discrete strategy is not the Nash equilibrium. You’ve been tasked to find two pieces of information:</p>\n",
    "\n",
    "<p>What is the smallest <em>N</em> for which the trial does <strong>not</strong> have the discrete strategy as the Nash equilibrium?</p>\n",
    "\n",
    "<p>For this <em>N</em>, if the other 3<em>N</em>-1 robots naively play the discrete\n",
    "strategy and your robot plays optimally (exploiting this knowledge of\n",
    "your opponents’ strategies), with what probability <em>p</em> will you make the finals (rounded to 6 significant digits)?</p>\n",
    "\n",
    "<p>Please submit your answer in the form “<em>N</em>, <em>p</em>”.</p>"
   ]
  },
  {
   "cell_type": "markdown",
   "metadata": {},
   "source": [
    "## Methodology\n",
    "\n",
    "Consider $n$ players playing $k$ races.\n",
    "\n",
    "If all $n$ players are playing the same discrete strategy, due to symmetry they all have the same probability of making the finals, that is $\\frac{n}{3n} = \\tfrac{1}{3}$.\n",
    "\n",
    "Now assume the other $n-1$ players are playing the discrete strategy, then the only chance for you to win is\n",
    "1. You allocate all to one race.\n",
    "    1. More than you allocated to this race, and ties are broken randomly.\n",
    "    2. Only you allocted to this race. You win.\n",
    "2. You allocate to several races.\n",
    "    1. Any race you allocated to that someone else participates in, you lose since you allocate less than 1.0.\n",
    "    2. Only you allocated to this race. You win. \n",
    "\n",
    "Obviously, 1. is the discrete strategy which has been solved. 2. you only win by being the only player allocating to a race. Hence, you will maximise winning chances by participating with any non-zero value in each race.\n",
    "\n",
    "Therefore, since you participate in all races, you will make the finals if any of the $k$ races have no other players.\n",
    "\n",
    "The general problem with $n$ **competitors** and $k$ races can be rephrased as:\n",
    "\"Given $n$ balls and $k$ urns, if all balls are places into urns randomly, what is the probability that at least one urn is empty\".\n",
    "\n",
    "Let $A_i$ be the event that urn $i$ remains empty. It is clear that $\\mathbb{P}(A_i) = \\left(\\frac{k-1}{k}\\right)^n$, i.e. all balls must be put in the (k-1) urns. Similarly, the probability that any combination of $j$ urns stay empty is $f(j; k, n) := \\left(\\frac{k-j}{k}\\right)^n$.\n",
    "\n",
    "Using the [inclusion-exclusion formula ](https://en.wikipedia.org/wiki/Inclusion%E2%80%93exclusion_principle#In_probability)\n",
    "\n",
    "k = 2:\n",
    "\n",
    "\\begin{align}\n",
    "\\mathbb{P}(A_1 \\cup A_2) &= \\mathbb{P}(A_1) + \\mathbb{P}(A_2) - \\mathbb{P}(A_1 \\cap A_2) \\\\\n",
    "&= 2 f(1; 2, n) - f(2;2,n).\n",
    "\\end{align}\n",
    "\n",
    "k = 3:\n",
    "\\begin{align}\n",
    "\\mathbb{P}(A_1\\cup A_2\\cup A_3)&=\\mathbb{P}(A_1)+\\mathbb{P}(A_2)+\\mathbb{P}(A_3)-\\mathbb{P}(A_1\\cap A_2)-\\mathbb{P}(A_1\\cap A_3)-\\mathbb{P}(A_2\\cap A_3)+\\mathbb{P}(A_1\\cap A_2\\cap A_3) \\\\\n",
    "&= 3 f(1;3,n) - 3f(2;3,n) + f(3;3,n).\n",
    "\\end{align}\n",
    "\n",
    "\n",
    "\n",
    "\n",
    "For general $k$ \n",
    "\\begin{align}\n",
    "\\mathbb{P}\\left(\\bigcup_{i=1}^k A_i\\right) = \\sum_{s=1}^k (-1)^{s-1} {k \\choose s} f(s;k,n)\n",
    "\\end{align}\n",
    "\n",
    "\n",
    "where $A_I = \\bigcap\\limits_{i\\in I} A_{i}$ denotes the intersection of all $A_i$ with index in $I$, where $I \\subseteq \\{1, 2, ..., k \\}, |I|=j$.\n",
    "\n",
    "\n",
    "$, that is $Pr(A_I) = \\left(\\frac{k-j}{k}\\right)^n$.\n",
    "\n",
    "\n",
    "\n",
    "\n",
    "\n",
    "\n",
    "\n",
    "[inclusion-exclusion](https://math.stackexchange.com/questions/174674/if-n-balls-are-thrown-into-k-bins-what-is-the-probability-that-every-bin-gets-a)\n",
    "..."
   ]
  },
  {
   "cell_type": "markdown",
   "metadata": {},
   "source": [
    "## Simulation"
   ]
  },
  {
   "cell_type": "code",
   "execution_count": 8,
   "metadata": {},
   "outputs": [
    {
     "name": "stdout",
     "output_type": "stream",
     "text": [
      "1 1 1.0 0.0\n",
      "2 1 1.0 0.0\n",
      "2 2 0.5 0.5\n",
      "3 1 1.0 0.0\n",
      "3 2 0.75 0.25\n",
      "3 3 0.222222222222222 0.777777777777778\n",
      "4 1 1.0 0.0\n",
      "4 2 0.875 0.125\n",
      "4 3 0.44444444444444414 0.5555555555555558\n",
      "4 4 0.09375 0.90625\n"
     ]
    }
   ],
   "source": [
    "def nash_pr_none_empty(n, k):\n",
    "    return sum((-1)**j * comb(k, j, exact=True)*(1-j/k)**n for j in range(k+1))\n",
    "def nash_pr_none_empty2(n, k):\n",
    "    return sum((-1)**(j-1) * comb(k, j, exact=True)*(1-j/k)**n for j in range(1, k+1))\n",
    "\n",
    "for n in range(5):\n",
    "    for k in range(1, n+1):\n",
    "        a1 = nash_pr_none_empty(n, k)\n",
    "        a2 = nash_pr_none_empty2(n, k)\n",
    "        print(n, k, a1, a2)"
   ]
  },
  {
   "cell_type": "code",
   "execution_count": 2,
   "metadata": {},
   "outputs": [
    {
     "data": {
      "text/plain": [
       "<Figure size 1500x600 with 1 Axes>"
      ]
     },
     "metadata": {},
     "output_type": "display_data"
    },
    {
     "name": "stdout",
     "output_type": "stream",
     "text": [
      "Estimate: N=8, 0.333226 < p < 0.335656\n"
     ]
    }
   ],
   "source": [
    "import numba\n",
    "from scipy import stats\n",
    "import numpy as np\n",
    "from scipy.special import comb\n",
    "from matplotlib import pyplot as plt\n",
    "\n",
    "@numba.njit(parallel=True)\n",
    "def sim_win_pr(n, k, nsim):\n",
    "    wins = 0\n",
    "    for i in numba.prange(nsim):\n",
    "        if np.unique(np.random.randint(0, k, size=n)).size < k:\n",
    "            wins += 1\n",
    "    mu_est = wins/nsim\n",
    "    vol_est = (mu_est * (1 - mu_est) / nsim)**0.5\n",
    "    return mu_est, vol_est\n",
    "\n",
    "def mc_conf(mu_est, stdev, alpha):\n",
    "    c = stats.norm.ppf(1 - alpha / 2)\n",
    "    return c*stdev\n",
    "\n",
    "def get_estimate(n, nsims, alpha):\n",
    "    mu_est, vol_est = sim_win_pr(3*n-1, n, nsims)\n",
    "    return mu_est, mc_conf(mu_est, vol_est, alpha)\n",
    "\n",
    "def visualize(xx, yy, yy_err=None):\n",
    "    fig, axs = plt.subplots(1,1, figsize=(15, 6))\n",
    "    axs.plot(xx, yy, marker='.')\n",
    "    if yy_err is not None:\n",
    "        axs.fill_between(xx, yy-yy_err, yy+yy_err, alpha=0.25)\n",
    "    axs.set_xlabel('n'); axs.set_ylabel('Pr(win)')\n",
    "    axs.hlines(1/3, 1, xx[-1])\n",
    "    axs.set_xticks(xx)\n",
    "    axs.grid()\n",
    "    plt.show()\n",
    "    return\n",
    "\n",
    "# Sweep to find where we cross 0.333\n",
    "nn = np.array(range(1, 15+1))\n",
    "yy = [get_estimate(n, 10_000, alpha=0.01) for n in nn]\n",
    "w_est, w_err = (np.array(e) for e in zip(*yy))\n",
    "\n",
    "visualize(nn, w_est, w_err)\n",
    "\n",
    "sup_idx = np.where(np.abs(w_est - 1/3)< w_err)[0][0]\n",
    "n_sup = nn[sup_idx]\n",
    "\n",
    "# Run with more sims\n",
    "w_sup_est, w_sup_err = get_estimate(n_sup, 1_000_000, alpha=0.01)\n",
    "print(f'Estimate: N={n_sup}, {w_sup_est-w_sup_err:.6f} < p < {w_sup_est+w_sup_err:.6f}')"
   ]
  },
  {
   "cell_type": "markdown",
   "metadata": {},
   "source": [
    "## Anlytical solution"
   ]
  },
  {
   "cell_type": "code",
   "execution_count": 22,
   "metadata": {},
   "outputs": [
    {
     "data": {
      "image/png": "[encoded data removed]",
      "text/plain": [
       "<Figure size 1080x432 with 1 Axes>"
      ]
     },
     "metadata": {
      "needs_background": "light"
     },
     "output_type": "display_data"
    },
    {
     "name": "stdout",
     "output_type": "stream",
     "text": [
      "(N,p) = (8, 0.334578)\n"
     ]
    }
   ],
   "source": [
    "def nash_pr_none_empty(n, k):\n",
    "    return sum((-1)**j * comb(k, j, exact=True)*(1-j/k)**n for j in range(k))\n",
    "\n",
    "def strat_winpr(n):\n",
    "    n_players = 3*n\n",
    "    n_competitors = n_players - 1\n",
    "    n_races = n        \n",
    "    # -- Pr(we win) = Pr(at least one race has no bids) --\n",
    "    pr_wewin = 1 - nash_pr_none_empty(n_competitors, n_races) # at least one round empty, which we will win.\n",
    "    return pr_wewin\n",
    "\n",
    "xx = np.array(range(1, 20+1), dtype=int)\n",
    "yy = np.array([strat_winpr(n) for n in xx])\n",
    "visualize(xx, yy)\n",
    "\n",
    "bound_idx = np.where(yy > 1/3)[0][0]\n",
    "n_min = xx[bound_idx]\n",
    "y_min = yy[bound_idx]\n",
    "\n",
    "print(f'(N,p) = ({n_min}, {y_min.round(6)})')"
   ]
  }
 ],
 "metadata": {
  "kernelspec": {
   "display_name": "Python 3.7.3 64-bit ('ProgramData': virtualenv)",
   "language": "python",
   "name": "python37364bitprogramdatavirtualenv59ae48332b0b4b33804568dd65329faa"
  },
  "language_info": {
   "codemirror_mode": {
    "name": "ipython",
    "version": 3
   },
   "file_extension": ".py",
   "mimetype": "text/x-python",
   "name": "python",
   "nbconvert_exporter": "python",
   "pygments_lexer": "ipython3",
   "version": "3.7.3"
  }
 },
 "nbformat": 4,
 "nbformat_minor": 2
}
