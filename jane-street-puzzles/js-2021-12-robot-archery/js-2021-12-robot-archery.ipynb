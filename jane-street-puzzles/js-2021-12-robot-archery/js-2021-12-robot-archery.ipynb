{
 "cells": [
  {
   "cell_type": "markdown",
   "metadata": {},
   "source": [
    "Pontus Hultkrantz"
   ]
  },
  {
   "cell_type": "markdown",
   "metadata": {},
   "source": [
    "# [December 2021 : Robot Archery](https://www.janestreet.com/puzzles/current-puzzle/)"
   ]
  },
  {
   "cell_type": "markdown",
   "metadata": {},
   "source": [
    "<p>After a grueling year filled with a wide variety of <a href=\"https://www.janestreet.com/puzzles/robot-weightlifting-index/\" title=\"tug of war\">robot</a> <a href=\"https://www.janestreet.com/puzzles/robot-tug-of-war-index/\" title=\"swimming\">sporting</a> <a href=\"https://www.janestreet.com/puzzles/robot-swimming-trials-index/\" title=\"weightlifting\">events</a>, we have arrived at the final event of the year: <strong>Robot Archery</strong>. Four robots have qualified for this year’s finals, and have been seeded in the following order:</p>\n",
    "\n",
    "<table>\n",
    "  <thead>\n",
    "    <tr>\n",
    "      <th>Robot</th>\n",
    "      <th>Seed </th>\n",
    "    </tr>\n",
    "  </thead>\n",
    "  <tbody>\n",
    "    <tr>\n",
    "      <td>Aaron</td>\n",
    "      <td>1</td>\n",
    "    </tr>\n",
    "    <tr>\n",
    "      <td>Barron  </td>\n",
    "      <td>2</td>\n",
    "    </tr>\n",
    "    <tr>\n",
    "      <td>Caren</td>\n",
    "      <td>3</td>\n",
    "    </tr>\n",
    "    <tr>\n",
    "      <td>Darrin </td>\n",
    "      <td>4</td>\n",
    "    </tr>\n",
    "  </tbody>\n",
    "</table>\n",
    "\n",
    "<p><br />\n",
    "The robots will take turns shooting arrows at a target<sup>1</sup>, starting with Aaron and proceeding in order by seed. When it is a given robot’s turn, they shoot a single arrow. If it is closer to the center of the target than <em>all</em> previous arrows by all players, that robot remains in the tournament, going to the back of the queue to await their next turn. Otherwise that robot is eliminated immediately. The last robot remaining in the queue is the winner.</p>\n",
    "\n",
    "<p>For example, here is how <em>last year’s</em> finals went, in which <strong>Caren</strong> was the winner. (Oddly enough it involved the same robots in the same seeding.)</p>\n",
    "\n",
    "<table>\n",
    "  <thead>\n",
    "    <tr>\n",
    "      <th>Turn  </th>\n",
    "      <th>Robot</th>\n",
    "      <th>Distance</th>\n",
    "    </tr>\n",
    "  </thead>\n",
    "  <tbody>\n",
    "    <tr>\n",
    "      <td>1</td>\n",
    "      <td>Aaron</td>\n",
    "      <td>10nm</td>\n",
    "    </tr>\n",
    "    <tr>\n",
    "      <td>2</td>\n",
    "      <td>Barron  </td>\n",
    "      <td>8nm</td>\n",
    "    </tr>\n",
    "    <tr>\n",
    "      <td>3</td>\n",
    "      <td>Caren</td>\n",
    "      <td>7nm</td>\n",
    "    </tr>\n",
    "    <tr>\n",
    "      <td>4</td>\n",
    "      <td>Darrin  </td>\n",
    "      <td>1km</td>\n",
    "    </tr>\n",
    "    <tr>\n",
    "      <td>5</td>\n",
    "      <td>Aaron</td>\n",
    "      <td>9nm</td>\n",
    "    </tr>\n",
    "    <tr>\n",
    "      <td>6</td>\n",
    "      <td>Barron</td>\n",
    "      <td>2nm</td>\n",
    "    </tr>\n",
    "    <tr>\n",
    "      <td>7</td>\n",
    "      <td>Caren</td>\n",
    "      <td>1nm</td>\n",
    "    </tr>\n",
    "    <tr>\n",
    "      <td>8</td>\n",
    "      <td>Barron</td>\n",
    "      <td>1Ym<sup>2</sup></td>\n",
    "    </tr>\n",
    "  </tbody>\n",
    "</table>\n",
    "\n",
    "<p><br />\n",
    "To ten decimal places, what is the probability that <strong>Darrin</strong> will be this year’s winner?\n",
    "(Or, if you want to send in the <em>exact answer</em>, that’s fine too!)</p>\n",
    "\n",
    "<p><br /></p>\n",
    "\n",
    "<p>[1] Each robot is equally skilled. Which is to say: for any region <em>R</em> on the target with nonzero area, the robots all have the same positive probability of landing an arrow within <em>R</em> on any given shot.</p>\n",
    "\n",
    "<p>[2] It’s a large target.</p>\n"
   ]
  },
  {
   "cell_type": "code",
   "execution_count": 2,
   "metadata": {},
   "outputs": [],
   "source": [
    "import numpy as np\n",
    "from scipy import stats\n",
    "from queue import SimpleQueue"
   ]
  },
  {
   "cell_type": "code",
   "execution_count": null,
   "metadata": {},
   "outputs": [],
   "source": []
  },
  {
   "cell_type": "code",
   "execution_count": 3,
   "metadata": {},
   "outputs": [
    {
     "data": {
      "text/plain": [
       "0    0.63172\n",
       "1    0.36828\n",
       "dtype: float64"
      ]
     },
     "execution_count": 3,
     "metadata": {},
     "output_type": "execute_result"
    }
   ],
   "source": [
    "players = ['Aron', 'Barron', 'Caren', 'Darrin']\n",
    "nplay = 2\n",
    "dist = stats.uniform()\n",
    "#dist = stats.norm()\n",
    "\n",
    "nsim = 100000\n",
    "data = np.empty(nsim, dtype=int)\n",
    "for isim in range(nsim):\n",
    "    q = SimpleQueue()\n",
    "    for i in range(nplay):\n",
    "        q.put(players[i])\n",
    "    curr_best = 1e6\n",
    "    while True:\n",
    "        if q.qsize() == 1:\n",
    "            winner = q.get(False)\n",
    "            #print(f\"winner is {winner}\")\n",
    "            data[isim] = players.index(winner)\n",
    "            break\n",
    "        # Player's turn\n",
    "        curr_player = q.get(False)\n",
    "        # Player's result\n",
    "        res = dist.rvs()\n",
    "        # Check if best so far\n",
    "        if abs(res) < curr_best:\n",
    "            curr_best = abs(res)\n",
    "            q.put(curr_player)\n",
    "\n",
    "#data = np.bincount(data)\n",
    "#data = data / data.sum()\n",
    "#data\n",
    "import pandas as pd\n",
    "data = pd.Series(data).value_counts().reindex(range(nplay)).fillna(0)\n",
    "data = data/data.sum()\n",
    "data"
   ]
  },
  {
   "cell_type": "code",
   "execution_count": 59,
   "metadata": {},
   "outputs": [
    {
     "data": {
      "text/html": [
       "<div>\n",
       "<style scoped>\n",
       "    .dataframe tbody tr th:only-of-type {\n",
       "        vertical-align: middle;\n",
       "    }\n",
       "\n",
       "    .dataframe tbody tr th {\n",
       "        vertical-align: top;\n",
       "    }\n",
       "\n",
       "    .dataframe thead th {\n",
       "        text-align: right;\n",
       "    }\n",
       "</style>\n",
       "<table border=\"1\" class=\"dataframe\">\n",
       "  <thead>\n",
       "    <tr style=\"text-align: right;\">\n",
       "      <th></th>\n",
       "      <th>best</th>\n",
       "    </tr>\n",
       "    <tr>\n",
       "      <th>alive</th>\n",
       "      <th></th>\n",
       "    </tr>\n",
       "  </thead>\n",
       "  <tbody>\n",
       "    <tr>\n",
       "      <th>0.0</th>\n",
       "      <td>0.500000</td>\n",
       "    </tr>\n",
       "    <tr>\n",
       "      <th>1.0</th>\n",
       "      <td>0.233417</td>\n",
       "    </tr>\n",
       "    <tr>\n",
       "      <th>2.0</th>\n",
       "      <td>0.166765</td>\n",
       "    </tr>\n",
       "  </tbody>\n",
       "</table>\n",
       "</div>"
      ],
      "text/plain": [
       "           best\n",
       "alive          \n",
       "0.0    0.500000\n",
       "1.0    0.233417\n",
       "2.0    0.166765"
      ]
     },
     "execution_count": 59,
     "metadata": {},
     "output_type": "execute_result"
    }
   ],
   "source": [
    "import numba\n",
    "\n",
    "@numba.njit(parallel=False)\n",
    "def run_sim(nsim, n):\n",
    "    data = np.zeros((nsim, 2))\n",
    "    for i in numba.prange(nsim):\n",
    "        m = 0.5\n",
    "        for k in range(n):\n",
    "            rnd = np.random.rand()\n",
    "            if rnd < m:\n",
    "                m = rnd\n",
    "                data[i,0] += 1\n",
    "        data[i,1] = m\n",
    "    return data\n",
    "    \n",
    "data = run_sim(n = 2, nsim = 25_000_000)\n",
    "    \n",
    "df = pd.DataFrame(data, columns=['alive', 'best'])\n",
    "df = df.groupby('alive').mean()\n",
    "df"
   ]
  },
  {
   "cell_type": "code",
   "execution_count": 60,
   "metadata": {},
   "outputs": [
    {
     "data": {
      "text/plain": [
       "0.5669474535814583"
      ]
     },
     "execution_count": 60,
     "metadata": {},
     "output_type": "execute_result"
    }
   ],
   "source": [
    "(df.index*df.best).sum()"
   ]
  },
  {
   "cell_type": "markdown",
   "metadata": {},
   "source": [
    "## Methodology\n",
    "\n",
    "Consider $n$ players playing $k$ races.\n",
    "\n",
    "If all $n$ players are playing the same discrete strategy, due to symmetry they all have the same probability of making the finals, that is $\\frac{n}{3n} = \\tfrac{1}{3}$.\n",
    "\n",
    "Now assume the other $n-1$ players are playing the discrete strategy, then the only chance for you to win is\n",
    "1. You allocate all to one race.\n",
    "    1. More than you allocated to this race, and ties are broken randomly.\n",
    "    2. Only you allocted to this race. You win.\n",
    "2. You allocate to several races.\n",
    "    1. Any race you allocated to that someone else participates in, you lose since you allocate less than 1.0.\n",
    "    2. Only you allocated to this race. You win. \n",
    "\n",
    "Obviously, 1. is the discrete strategy which has been solved. 2. you only win by being the only player allocating to a race. Hence, you will maximise winning chances by participating with any non-zero value in each race.\n",
    "\n",
    "Therefore, since you participate in all races, you will make the finals if any of the $k$ races have no other players.\n",
    "\n",
    "The general problem with $n$ **competitors** and $k$ races can be rephrased as:\n",
    "\"Given $n$ balls and $k$ urns, if all balls are places into urns randomly, what is the probability that at least one urn is empty\".\n",
    "\n",
    "Let $A_i$ be the event that urn $i$ remains empty. It is clear that $\\mathbb{P}(A_i) = \\left(\\frac{k-1}{k}\\right)^n$, i.e. all balls must be put in the (k-1) urns. Similarly, the probability that any combination of $j$ urns stay empty is $f(j; k, n) := \\left(\\frac{k-j}{k}\\right)^n$.\n",
    "\n",
    "Using the [inclusion-exclusion formula ](https://en.wikipedia.org/wiki/Inclusion%E2%80%93exclusion_principle#In_probability)\n",
    "\n",
    "k = 2:\n",
    "\n",
    "\\begin{align}\n",
    "\\mathbb{P}(A_1 \\cup A_2) &= \\mathbb{P}(A_1) + \\mathbb{P}(A_2) - \\mathbb{P}(A_1 \\cap A_2) \\\\\n",
    "&= 2 f(1; 2, n) - f(2;2,n).\n",
    "\\end{align}\n",
    "\n",
    "k = 3:\n",
    "\\begin{align}\n",
    "\\mathbb{P}(A_1\\cup A_2\\cup A_3)&=\\mathbb{P}(A_1)+\\mathbb{P}(A_2)+\\mathbb{P}(A_3)-\\mathbb{P}(A_1\\cap A_2)-\\mathbb{P}(A_1\\cap A_3)-\\mathbb{P}(A_2\\cap A_3)+\\mathbb{P}(A_1\\cap A_2\\cap A_3) \\\\\n",
    "&= 3 f(1;3,n) - 3f(2;3,n) + f(3;3,n).\n",
    "\\end{align}\n",
    "\n",
    "\n",
    "\n",
    "\n",
    "For general $k$ \n",
    "\\begin{align}\n",
    "\\mathbb{P}\\left(\\bigcup_{i=1}^k A_i\\right) = \\sum_{s=1}^k (-1)^{s-1} {k \\choose s} f(s;k,n)\n",
    "\\end{align}\n",
    "\n",
    "\n",
    "where $A_I = \\bigcap\\limits_{i\\in I} A_{i}$ denotes the intersection of all $A_i$ with index in $I$, where $I \\subseteq \\{1, 2, ..., k \\}, |I|=j$.\n",
    "\n",
    "\n",
    "$, that is $Pr(A_I) = \\left(\\frac{k-j}{k}\\right)^n$.\n",
    "\n",
    "\n",
    "\n",
    "\n",
    "\n",
    "\n",
    "\n",
    "[inclusion-exclusion](https://math.stackexchange.com/questions/174674/if-n-balls-are-thrown-into-k-bins-what-is-the-probability-that-every-bin-gets-a)\n",
    "..."
   ]
  },
  {
   "cell_type": "markdown",
   "metadata": {},
   "source": [
    "## Simulation"
   ]
  },
  {
   "cell_type": "code",
   "execution_count": null,
   "metadata": {},
   "outputs": [],
   "source": []
  },
  {
   "cell_type": "code",
   "execution_count": null,
   "metadata": {},
   "outputs": [],
   "source": []
  },
  {
   "cell_type": "markdown",
   "metadata": {},
   "source": [
    "## Anlytical solution"
   ]
  },
  {
   "cell_type": "code",
   "execution_count": null,
   "metadata": {},
   "outputs": [],
   "source": []
  }
 ],
 "metadata": {
  "kernelspec": {
   "display_name": "Python 3.7.3 64-bit ('ProgramData': virtualenv)",
   "language": "python",
   "name": "python37364bitprogramdatavirtualenv59ae48332b0b4b33804568dd65329faa"
  },
  "language_info": {
   "codemirror_mode": {
    "name": "ipython",
    "version": 3
   },
   "file_extension": ".py",
   "mimetype": "text/x-python",
   "name": "python",
   "nbconvert_exporter": "python",
   "pygments_lexer": "ipython3",
   "version": "3.7.3"
  }
 },
 "nbformat": 4,
 "nbformat_minor": 2
}
