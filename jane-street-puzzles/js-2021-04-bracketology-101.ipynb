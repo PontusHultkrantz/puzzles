{
 "cells": [
  {
   "cell_type": "markdown",
   "metadata": {},
   "source": [
    "Pontus Hultkrantz"
   ]
  },
  {
   "cell_type": "markdown",
   "metadata": {},
   "source": [
    "# [April 2021 : Bracketology 101](https://www.janestreet.com/puzzles/bracketology-101-index/)\n",
    "\n"
   ]
  },
  {
   "cell_type": "code",
   "execution_count": 1,
   "metadata": {
    "tags": [
     "hide-input"
    ]
   },
   "outputs": [
    {
     "data": {
      "text/html": [
       "<img src=\"https://www.janestreet.com/puzzles/2021-04-01-bracketology-101.png\" width=\"400\" height=\"400\"/>"
      ],
      "text/plain": [
       "<IPython.core.display.Image object>"
      ]
     },
     "execution_count": 1,
     "metadata": {},
     "output_type": "execute_result"
    }
   ],
   "source": [
    "from IPython.display import Image\n",
    "Image(url= \"https://www.janestreet.com/puzzles/2021-04-01-bracketology-101.png\", width=400, height=400)"
   ]
  },
  {
   "cell_type": "markdown",
   "metadata": {},
   "source": [
    "There’s a certain insanity in the air this time of the year that gets us thinking about tournament brackets. Consider a tournament with 16 competitors, seeded 1-16, and arranged in the single-elimination bracket pictured above (identical to a “region” of the NCAA Division 1 basketball tournament). Assume that when the X-seed plays the Y-seed, the X-seed has a Y/(X+Y) probability of winning. E.g. in the first round, the 5-seed has a 12/17 chance of beating the 12-seed.\n",
    "\n",
    "Suppose the 2-seed has the chance to secretly swap two teams’ placements in the bracket before the tournament begins. So, for example, say they choose to swap the 8- and 16-seeds. Then the 8-seed would play their first game against the 1-seed and have a 1/9 chance of advancing to the next round, and the 16-seed would play their first game against the 9-seed and have a 9/25 chance of advancing.\n",
    "\n",
    "What seeds should the 2-seed swap to maximize their (the 2-seed’s) probability of winning the tournament, and how much does the swap increase that probability? Give your answer to six significant figures.\n",
    "\n",
    "\n",
    "---"
   ]
  },
  {
   "cell_type": "markdown",
   "metadata": {},
   "source": [
    "## Methodology\n",
    "We model the tournament as a propagation of discrete density functions. For two players to meet in a game, they must have won previous rounds. Assume seed $s_i \\in S_i$ and $s_j \\in S_j$ are meeting in round $t$. Here $S$ denotes the set of possbile alive seeds from previous rounds. The winner of round $t$ will be denoted $w_k \\in S_i\\cup S_j$\n",
    "\n",
    "\\begin{align}\n",
    "Pr(\\text{round}_t:(s_i, s_j)):&= Pr(s_i \\text{ wins round}_{t-1}) \\cdot Pr(s_j \\text{ wins round}_{t-1})\n",
    "\\end{align}\n",
    "\n",
    "\n",
    "Now assume the winner $w_k$ is from set $S_i$\n",
    "\\begin{align}\n",
    "Pr(s_i \\text{ wins round}_t):&= \\sum_j Pr(\\text{round}_t:(s_i, s_j)) \\cdot Pr(s_i \\text{ wins vs } s_j) \\\\\n",
    "&= Pr(s_i \\text{ wins round}_{t-1}) \\cdot \\sum_j  Pr(s_j \\text{ wins round}_{t-1}) \\cdot Pr(s_i \\text{ wins vs } s_j) \\\\\n",
    "&= Pr(s_i \\text{ wins round}_{t-1}) \\cdot \\sum_j  Pr(s_j \\text{ wins round}_{t-1}) \\cdot \\frac{s_j}{s_i+s_j}\n",
    "\\end{align}.\n",
    "\n",
    "### Example:\n",
    "- Round 1:\n",
    "    - Game 1: (7 vs 10)\n",
    "    - Game 2: (2 vs 15)\n",
    "- Round 2:\n",
    "    - Game 1: winner from 1.1 vs 1.2\n",
    "\n",
    "\n",
    "#### Round 1 Game 1:\n",
    "\\begin{align}\n",
    "Pr(\\text{seed 7 wins round 1.1}) &= Pr(\\text{seed 7 wins round 0})\\cdot Pr(\\text{seed 10 wins round 0})\\cdot Pr(\\text{7 wins vs 10}) \\\\\n",
    "&= 1.0 \\cdot 1.0 \\cdot \\tfrac{10}{7+10} \\approx 0.588\n",
    "\\end{align}\n",
    "\\begin{align}\n",
    "Pr(\\text{seed 10 wins round 1.1}) &= Pr(\\text{seed 7 wins round 0})\\cdot Pr(\\text{seed 10 wins round 0})\\cdot Pr(\\text{10 wins vs 7}) \\\\\n",
    "&= 1.0 \\cdot 1.0 \\cdot \\left(1 - \\tfrac{10}{7+10}\\right) \\approx 0.412\n",
    "\\end{align}\n",
    "Now the winner of this game can be written in density form as $Pr(s\\text{ wins 1.1}) = \\{7\\to \\tfrac{10}{17}, 10\\to \\tfrac{7}{17}\\}$.\n",
    "\n",
    "#### Round 1 Game 2:\n",
    "Analogously as above we ge the density of the winner as $Pr(s\\text{ wins 1.2}) = \\{2\\to \\tfrac{15}{17}, 15\\to \\tfrac{2}{17}\\}$.\n",
    "\n",
    "Optionally, we can view the density function per round as the union of the densities of all the games within the round as $Pr(s\\text{ wins 1}) = \\{7\\to \\tfrac{10}{17}, 10\\to \\tfrac{7}{17}, 2\\to \\tfrac{15}{17}, 15\\to \\tfrac{2}{17}\\}$.\n",
    "\n",
    "#### Round 2 Game 1:\n",
    "\n",
    "Possible scenarios: 7 vs 2, 7 vs 15, 10 vs 2, or 10 vs 15.\n",
    "\\begin{align}\n",
    "Pr(\\text{seed 7 wins round 2.1}) &= Pr(7 \\text{ wins round 1.1}) \\cdot \\left(  Pr(2 \\text{ wins round 1.2}) \\cdot \\tfrac{2}{7+2} + Pr(15 \\text{ wins round 1.2}) \\cdot \\tfrac{15}{7+15}  \\right) \\\\\n",
    "&= \\tfrac{10}{17} \\cdot \\left( \\tfrac{15}{17} \\cdot \\tfrac{2}{9} + \\tfrac{2}{17} \\cdot \\tfrac{15}{22} \\right) \\approx 0.16. \\\\\n",
    "Pr(\\text{seed 10 wins round 2.1}) &= Pr(10 \\text{ wins round 1.1}) \\cdot \\left(  Pr(2 \\text{ wins round 1.2}) \\cdot \\tfrac{2}{10+2} + Pr(15 \\text{ wins round 1.2}) \\cdot \\tfrac{15}{10+15}  \\right) \\\\\n",
    "&= \\tfrac{7}{17} \\cdot \\left( \\tfrac{15}{17} \\cdot \\tfrac{2}{12} + \\tfrac{2}{17} \\cdot \\tfrac{15}{25} \\right) \\approx 0.09. \\\\\n",
    "Pr(\\text{seed 2 wins round 2.1}) &= Pr(2 \\text{ wins round 1.2}) \\cdot \\left(  Pr(7 \\text{ wins round 1.1}) \\cdot \\tfrac{7}{2+7} + Pr(10 \\text{ wins round 1.1}) \\cdot \\tfrac{10}{2+10}  \\right) \\\\\n",
    "&= \\tfrac{15}{17} \\cdot \\left( \\tfrac{10}{17} \\cdot \\tfrac{7}{9} + \\tfrac{7}{17} \\cdot \\tfrac{10}{12} \\right) \\approx 0.71. \\\\\n",
    "Pr(\\text{seed 15 wins round 2.1}) &= Pr(15 \\text{ wins round 1.1}) \\cdot \\left(  Pr(7 \\text{ wins round 1.1}) \\cdot \\tfrac{7}{15+7} + Pr(10 \\text{ wins round 1.1}) \\cdot \\tfrac{10}{15+10}  \\right) \\\\\n",
    "&= \\tfrac{2}{17} \\cdot \\left( \\tfrac{10}{17} \\cdot \\tfrac{7}{22} + \\tfrac{7}{17} \\cdot \\tfrac{10}{25} \\right) \\approx 0.04.\n",
    "\\end{align}\n",
    "\n",
    "\n",
    "The final (winning) density becomes $Pr(s\\text{ wins 2.1}) = \\{7\\to 0.16, 10\\to 0.09, 2\\to 0.71, 15\\to 0.04\\}$.\n",
    "\n",
    "As there can only be one final winner, the sum of probabilities adds up to unit."
   ]
  },
  {
   "cell_type": "markdown",
   "metadata": {},
   "source": [
    "## Code"
   ]
  },
  {
   "cell_type": "code",
   "execution_count": 2,
   "metadata": {},
   "outputs": [],
   "source": [
    "import numpy as np\n",
    "from collections import namedtuple\n",
    "from collections import defaultdict # used to collect densities\n",
    "from typing import Iterable\n",
    "Group = Iterable\n",
    "\n",
    "\n",
    "Player = namedtuple('Player', 'seed,survival')\n",
    "Scenario = namedtuple('Scenario', 'pair,player')\n",
    "\n",
    "def pr(seed_win, seed_lose):\n",
    "    return seed_lose/(seed_win + seed_lose)\n",
    "\n",
    "def battle(group1 : Group[Player], group2 : Group[Player]) -> Group[Player]:\n",
    "    ''' A match where group1 density competes against group2 density, resulting in a new density output '''\n",
    "    collect = defaultdict(float)\n",
    "    for p1 in group1:\n",
    "        for p2 in group2:\n",
    "            pr_p1_wins = pr(p1.seed, p2.seed)\n",
    "            collect[p1.seed] += p1.survival * p2.survival * pr_p1_wins\n",
    "            collect[p2.seed] += p1.survival * p2.survival * (1 - pr_p1_wins)\n",
    "    return [Player(k, v) for k,v in collect.items()]\n",
    "\n",
    "def run_tournament(xx):\n",
    "    xx = [[Player(x, 1.0)] for x in xx]\n",
    "    incoming = xx\n",
    "    for k in range(int(np.log2(len(xx)))): # while len(incoming) > 1:\n",
    "        outgoing = []\n",
    "        for i in range(1, len(incoming), 2):\n",
    "            group1 = incoming[i-1]\n",
    "            group2 = incoming[i]\n",
    "            outgoing += [battle(group1, group2)]\n",
    "        incoming = outgoing\n",
    "    checksum = sum(p.survival for p in incoming[0])\n",
    "    assert np.round(checksum, 4)==1.0, \"Probabilities don't add up to unit.\"\n",
    "    return incoming\n",
    "\n",
    "def find_seed(result, target_seed):\n",
    "    gen = (e for e in result[0] if e.seed == target_seed)\n",
    "    return next(gen)\n",
    "    \n",
    "def swap(seq, i1, i2):\n",
    "    ' Inplace'\n",
    "    seq[i1], seq[i2] = seq[i2], seq[i1]\n",
    "    return\n",
    "    \n",
    "def find_best_swap(xx, target_seed):\n",
    "    win_density = []\n",
    "    for i1 in range(len(xx)):\n",
    "        for i2 in range(i1 + 2 - i1%2, len(xx)): # Do not swap within a pair.\n",
    "            swap(xx, i1, i2) # Swap two seeds.\n",
    "            res = find_seed(run_tournament(xx), target_seed)\n",
    "            win_density += [Scenario(pair=(xx[i1], xx[i2]), player=res)]\n",
    "            swap(xx, i1, i2) # Undo swap.\n",
    "    win_density.sort(key=lambda e : -e.player.survival)\n",
    "    return win_density[0]"
   ]
  },
  {
   "cell_type": "markdown",
   "metadata": {},
   "source": [
    "## Result"
   ]
  },
  {
   "cell_type": "code",
   "execution_count": 3,
   "metadata": {},
   "outputs": [
    {
     "name": "stdout",
     "output_type": "stream",
     "text": [
      "Baseline Pr(seed 2 wins) = 0.216040.\n",
      "Swapping (3, 16) increases Pr(seed 2 wins) with +0.065580 to 0.281619.\n"
     ]
    }
   ],
   "source": [
    "xx = [1, 16, 8, 9, 5, 12, 4, 13, 6, 11, 3, 14, 7, 10, 2, 15]\n",
    "baseline = find_seed(run_tournament(xx), target_seed=2)\n",
    "swapped = find_best_swap(xx, target_seed=2)\n",
    "\n",
    "print(f'Baseline Pr(seed {baseline.seed} wins) = {baseline.survival:.6f}.')\n",
    "print(f'Swapping {swapped.pair} increases Pr(seed {swapped.player.seed} wins) with +{swapped.player.survival-baseline.survival:.6f} to {swapped.player.survival:.6f}.')"
   ]
  }
 ],
 "metadata": {
  "kernelspec": {
   "display_name": "Python 3.7.3 64-bit ('ProgramData': virtualenv)",
   "language": "python",
   "name": "python37364bitprogramdatavirtualenv59ae48332b0b4b33804568dd65329faa"
  },
  "language_info": {
   "codemirror_mode": {
    "name": "ipython",
    "version": 3
   },
   "file_extension": ".py",
   "mimetype": "text/x-python",
   "name": "python",
   "nbconvert_exporter": "python",
   "pygments_lexer": "ipython3",
   "version": "3.7.3"
  }
 },
 "nbformat": 4,
 "nbformat_minor": 2
}
