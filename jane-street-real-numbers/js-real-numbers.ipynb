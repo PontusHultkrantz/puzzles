{
 "cells": [
  {
   "cell_type": "markdown",
   "metadata": {},
   "source": [
    "Pontus Hultkrantz"
   ]
  },
  {
   "cell_type": "markdown",
   "metadata": {},
   "source": [
    "# [Episode 1: Probability](https://www.janestreet.com/real-numbers/episode-01/)\n",
    "## [The Perils of Dogsitting](https://www.janestreet.com/static/pdfs/real-numbers/RN_PDF_01.pdf)\n",
    "\n",
    "Your friend is out of town for 5 nights and has asked you to dogsit his poodle Fluffy. After\n",
    "you agree and Fluffy’s owner is far away, you receive a text explaining that on 2/3rds of\n",
    "nights, randomly, the dog will wake you up and demand to go on a walk. Given that Fluffy\n",
    "wakes you up 2/3rds of nights independently, what is the probability that you get at least 2\n",
    "full nights of sleep over the 5 nights you dogsit for your friend?"
   ]
  },
  {
   "cell_type": "markdown",
   "metadata": {},
   "source": [
    "### Solution\n",
    "Fluffy wakes up $X_i \\sim Bern(p)$, where $p=2/3$.\n",
    "\n",
    "Number of wakeups during n days $Y_n = \\sum_1^n X_i \\sim Bin(n, p)$. Binomial pmf is given by $p_y(k, n; p) = {n \\choose k}p^k (1-p)^{n-k}$.\n",
    "\n",
    "Probability that Fluffy wakes up three times or less\n",
    "$P(Y_5 \\leq 3) = 1 - P(Y_5 \\geq 4) = 1 - p_y(4, 5; 2/3) - p_y(5, 5; 2/3) \\approx 0.826$.\n"
   ]
  },
  {
   "cell_type": "markdown",
   "metadata": {},
   "source": [
    "# [Episode 2: Probability](https://www.janestreet.com/real-numbers/episode-02/)\n",
    "## [Always Take the Middle Taxi](https://www.janestreet.com/static/pdfs/real-numbers/RN_PDF_02.pdf)\n",
    "\n",
    "In the busy city center of Metropolis, exactly half of the cars are yellow taxis. You are\n",
    "trying to catch a taxi with your friend, who is superstitious and will only ride in a taxi that\n",
    "is both directly behind another taxi and directly in front of another taxi. If a stoplight in\n",
    "Metropolis has six cars stopped at it, and each car is a taxi independently with probability\n",
    "½, what is the probability that there are three yellow taxis in a row at the traffic light?"
   ]
  },
  {
   "cell_type": "markdown",
   "metadata": {},
   "source": [
    "### Solution\n",
    "Confusing problem as it sounds like a set theory problem, i.e. $\\Pr(\\text{Yellow} \\cap {Taxi} | \\text{Taxi})$. However it is just a combinatorial problem, equivalent to\n",
    "_Tossing a fair coin six times, what is the probability to obtain at least three heads in a row._\n",
    "\n",
    "We calculate the number of combinations $n_k$ for having exactly $k$ heads in a row.\n",
    "Total number of combinations $n = 2^6$\n",
    "##### Three heads in a row\n",
    "\n",
    "Three heads in a row: HHHT??, THHHT?, ?THHHT, ??THHH\n",
    "\n",
    "$n_3 = 2^2 + 2^1 + 2^1 + 2^2 = 12$.\n",
    "\n",
    "Four heads in a row: HHHHT?, THHHHT, ?THHHH\n",
    "\n",
    "$n_4 = 2^1 + 2^0 + 2^1 = 5$.\n",
    "\n",
    "Five heads in a row: HHHHHT, THHHHH\n",
    "\n",
    "$n_5 = 2^0 + 2^0 = 2$.\n",
    "\n",
    "Six heads in a row: HHHHHH\n",
    "\n",
    "$n_6 = 2^0 = 1$.\n",
    "\n",
    "Probability is then\n",
    "$\\frac{1}{n}(n_3+n_4+n_5+n_6) = 20/2^6 = 5/16$.\n",
    "\n",
    "\n",
    "#### The general case\n",
    "is difficult but can be solved according\n",
    "https://math.stackexchange.com/questions/602123/what-are-the-odds-of-getting-heads-7-times-in-a-row-in-40-tries-of-flipping-a-co\n"
   ]
  },
  {
   "cell_type": "markdown",
   "metadata": {},
   "source": [
    "# [Episode 3: Conditional Probability](https://www.janestreet.com/real-numbers/episode-03/)\n",
    "## [A Perfectly Balanced War](https://www.janestreet.com/static/pdfs/real-numbers/RN_PDF_03.pdf)\n",
    "\n",
    "A Perfectly Balanced War\n",
    "We’ll consider the first move in the card game War. A move in War is called a battle: two\n",
    "players have shuffled decks of playing cards and each flip over their top cards. Whoever\n",
    "has the highest card wins the battle and collects both cards for their deck. In the case\n",
    "where the ranks of the cards are equal (say both players flip over a six), a war is declared,\n",
    "and both players deal out 3 more cards for their war, and then they battle again from\n",
    "the top of the remaining deck. Whoever wins this battle wins all 10 cards that have been\n",
    "flipped. For the sake of this game, we’ll say that if this second battle is also a tie, the\n",
    "players flip a coin to decide who wins the 10 cards. Card game enthusiasts will notice that\n",
    "these “wars” are the only way for a player to lose an ace that’s in their deck.\n",
    "\n",
    "You meet Clara and Damien playing war with a deck of playing cards. Clara starts with all\n",
    "13 clubs and Damien gets all 13 diamonds, and they leave aside the other 26 cards of the\n",
    "deck. Then they shuffle up their decks and start battling. The problem of the week is: what\n",
    "is the probability that Clara wins Damien’s ace of diamonds on the first move of the game?"
   ]
  },
  {
   "cell_type": "markdown",
   "metadata": {},
   "source": [
    "### Solution\n",
    "#TODO"
   ]
  },
  {
   "cell_type": "markdown",
   "metadata": {},
   "source": [
    "# [Episode 4: Bayes’ Theorem](https://www.janestreet.com/real-numbers/episode-04/)\n",
    "## [Passing Your Driving Test](https://www.janestreet.com/static/pdfs/real-numbers/RN_PDF_04.pdf)\n",
    "\n",
    "Evelyn administers the written tests at her local DMV. Before each applicant takes the\n",
    "test, she asks them if they studied for it. She’s found that 60% of applicants have studied,\n",
    "and while the overall pass rate for the test is 75%, for the subset of applicants that\n",
    "haven’t studied, only half pass. She just had an applicant take the test and pass, and she\n",
    "forgot to ask them if they had studied. What is the probability they studied?"
   ]
  },
  {
   "cell_type": "markdown",
   "metadata": {},
   "source": [
    "### Solution\n",
    "Let $P:=\\text{Pass}$ and $S:=\\text{Studied}$, then it is given that\n",
    "\\begin{cases}\n",
    "   \\Pr(S)=0.60\\\\\n",
    "   \\Pr(P)=0.75 \\\\\n",
    "   \\Pr(P|\\overline{S})=0.5,\n",
    "\\end{cases}\n",
    "\n",
    "and using Baye's theorem we get\n",
    "\n",
    "$\\Pr(S|P) = \\frac{\\Pr(S, P)}{\\Pr(P)}= \\frac{\\Pr(P|S)\\Pr(S)}{\\Pr(P)}$\n",
    "\n",
    "Now using\n",
    "$\\Pr(P) = \\Pr(P|S)\\cdot \\Pr(S) + \\Pr(P| \\overline{S})\\cdot \\Pr(\\overline{S})$\n",
    "and isolating \n",
    "$\\Pr(P|S) = \\frac{\\left(\\Pr(P) - \\Pr(P|\\overline S)\\right) \\left(1 - \\Pr(S)\\right)}{\\Pr(S)}$\n",
    "\n",
    "we arrives at\n",
    "$\\Pr(S|P) = \\frac{\\left(\\Pr(P) - \\Pr(P|\\overline S)\\right) \\left(1 - \\Pr(S)\\right)}{\\Pr(P)} = \\frac{11}{15}$.\n",
    "\n",
    "Alternatively and even faster \n",
    "$\\Pr(S|P) = 1- \\Pr(\\overline S | P) = 1 - \\frac{\\Pr(\\overline S,P)}{\\Pr(P)} = 1 - \\frac{\\Pr(P|\\overline S)\\Pr(\\overline S)}{\\Pr(P)} = 1 - \\frac{\\Pr(P|\\overline S)(1-\\Pr(S))}{\\Pr(P)} = \\frac{11}{15}$."
   ]
  },
  {
   "cell_type": "markdown",
   "metadata": {},
   "source": [
    "# [Episode 5: Bayes’ Theorem](https://www.janestreet.com/real-numbers/episode-05/)\n",
    "## [Grandma’s Secret College Fund](https://www.janestreet.com/static/pdfs/real-numbers/RN_PDF_05.pdf)\n",
    "\n",
    "Lucky you! Your wonderful grandma has been secretly saving money for your college\n",
    "expenses. In particular, every Sunday for an unknown number of weeks, she has randomly\n",
    "chosen either a \\\\$1 bill or a \\\\$20 bill (50/50 chance), and has put that bill into a piggy bank\n",
    "with your name on it. Last Saturday, she revealed to you that there were 3 \\\\$20 bills in\n",
    "the piggy bank so far (but again, you don’t know how many \\\\$1 bills there are). Then on\n",
    "Sunday, she put this week’s bill in the piggy bank. Now on Monday, you reach in and pull\n",
    "out a randomly selected bill, and it turns out that bill is a \\\\$20! What is the chance that\n",
    "your grandma put a \\\\$20 in the piggy bank yesterday? "
   ]
  },
  {
   "cell_type": "markdown",
   "metadata": {},
   "source": [
    "### Solution\n",
    "Denote the state of bills in the bank by $\\{N_1, N_{20}\\} = \\{N-N_{20}, N_{20}\\}$, where $N$ is the total number of bills.\n",
    "\n",
    "Initially we have $\\{N-3, 3\\}$, then either\n",
    "- Grandma puts a \\\\$1 bill with $\\Pr(\\text{put \\$1})=1/2 \\rightarrow \\{N-2, 3\\}$, thereafter we draw a \\\\$20 with probability $\\Pr(\\text{draw \\$20}|\\text{put \\$1}) = \\frac{3}{N+1}$.\n",
    "- Grandma puts a \\\\$20 bill with $\\Pr(\\text{put \\$20})=1/2 \\rightarrow \\{N-3, 4\\}$, thereafter we draw a \\\\$20 with probability $\\Pr(\\text{draw \\$20}|\\text{put \\$20}) = \\frac{4}{N+1}$.\n",
    "\n",
    "Now using Baye's Theorem we get\n",
    "\n",
    "$\\Pr(\\text{put \\$20}|\\text{draw \\$20}) \\ = \\frac{\\Pr(\\text{draw \\$20}|\\text{put \\$20}) \\Pr(\\text{put \\$20})}{\\Pr(\\text{draw \\$20})} = \\frac{\\Pr(\\text{draw \\$20}|\\text{put \\$20}) \\Pr(\\text{put \\$20})}{\\Pr(\\text{draw \\$20}|\\text{put \\$1})\\Pr(\\text{put \\$1}) + \\Pr(\\text{draw \\$20}|\\text{put \\$20})\\Pr(\\text{put \\$20})} = \\frac{4}{7} \\approx 0.57$.\n",
    "\n",
    "Maybe somewhat surprisingly, the probability does not depend on $N$."
   ]
  },
  {
   "cell_type": "markdown",
   "metadata": {},
   "source": [
    "# [Episode 6: Geometry](https://www.janestreet.com/real-numbers/episode-06/)\n",
    "## [The Perfect Snow Cone](https://www.janestreet.com/static/pdfs/real-numbers/RN_PDF_06.pdf)\n",
    "\n",
    "For this episode’s problem of the week, we are designing the shape of a snow cone\n",
    "holder. The specs for this snow cone holder:\n",
    "1. It will be shaped like a cone,\n",
    "2. The lip of the cone has to fit around the equator of a 5cm radius sphere of\n",
    "flavored slush\n",
    "3. The volume of the cone has to equal the volume of the hemisphere of that 5cm\n",
    "radius sphere to be fit into it.\n",
    "Given these requirements, what is the exact shape the snow cone holder should take? "
   ]
  },
  {
   "cell_type": "markdown",
   "metadata": {},
   "source": [
    "### Solution\n",
    "\n",
    "Let the cone have height $H$ and largest radius $r$. The area of a circle slice of the (base upwards) cone at heigth $h$ is $A(h) = \\frac{h}{H}r\\pi$. The volume of the cone is then\n",
    "$V_c = \\int_0^H A(h)dh = \\frac{H}{3}\\pi r^2$.\n",
    "\n",
    "Now we want $V_c(H) = \\frac{1}{2}\\left(\\frac{4\\pi r^3}{3}\\right) \\implies H = 2r = 10 cm$."
   ]
  },
  {
   "cell_type": "markdown",
   "metadata": {},
   "source": [
    "# [Episode 7: Geometry](https://www.janestreet.com/real-numbers/episode-07/)\n",
    "## [Efficient Reshaping of a Snowball into a Snow Cone](https://www.janestreet.com/static/pdfs/real-numbers/RN_PDF_07.pdf)\n",
    "\n",
    "To use our newly designed snow cone holder, we will reshape the bottom half of a 5cm radius sphere of slush into an inverted cone of radius 5cm and height 10cm. If we want to\n",
    "move the least amount of slush in this reshaping, we should “shave off” some amount of\n",
    "snow from just beneath the equator, the part of the sphere that is wider than the cone.\n",
    "That shaved ice will be packed into the point of the cone that dips below the sphere of\n",
    "the snowball.\n",
    "The Problem of the Week is: what is the radius of the ring at the bottom the part of the\n",
    "snowball that gets shaved off? Another way to ask this: if we were to superimpose our\n",
    "spherical snowball with the cone we are fitting it into, what is the radius of their circle of\n",
    "intersection?\n",
    "Bonus Problem of the Week for students familiar with integral calculus: what is the total\n",
    "volume of the displaced “shaved ice” of our snowball?"
   ]
  },
  {
   "cell_type": "markdown",
   "metadata": {},
   "source": [
    "### Solution\n",
    "From before we have that $H=2r$.\n",
    "Radius of slice of slush ball at height $h$ is $R_s(h)= \\sqrt{r^2-h^2}$, and the\n",
    "radius of the (base down) cone at height $h$ is $R_c(h)=\\left(1-\\frac{h}{H}\\right)r = r-\\frac{h}{2}$.\n",
    "\n",
    "Setting equal and solving for $h$ yields $h^* = \\frac{4}{5}r$ and $R^*=\\frac{3}{5}r = 3 cm$.\n",
    "\n",
    "\n",
    "The volume of the ball outside the cone is\n",
    "$\\int_{h=0}^{h^*}\\pi R_s(h)^2 -\\pi R_c(h)^2 dh = \\frac{\\pi}{4}\\int_0^{h^*} 4 r h - 5h^2 dh = \\frac{8}{75}\\pi r^3 = \\frac{40}{3}\\pi \\approx 41.9 cm^3$."
   ]
  },
  {
   "cell_type": "markdown",
   "metadata": {},
   "source": [
    "# [Episode 8: Geometry](https://www.janestreet.com/real-numbers/episode-08/)\n",
    "## [Crossing the River](https://www.janestreet.com/static/pdfs/real-numbers/RN_PDF_08.pdf)\n",
    "\n",
    "You, your friend, and your toy boat Wavey are at a river whose banks are straight parallel\n",
    "lines 100 meters apart, and the river flows at a constant but unknown rate at all points.\n",
    "This means that while Wavey is in the water, it gets pulled downstream at this rate. In\n",
    "addition, Wavey has a motor that pushes it in the direction its facing at another constant\n",
    "rate, also unknown. Two docks are directly across the river from each other, you are at\n",
    "one and your friend is at the other with the toy boat. Your friend points Wavey directly\n",
    "towards your dock and places it in the river with the motor on, but as it crosses the\n",
    "river it gets pulled downstream. You retrieve Wavey where it met your bank, 60 meters\n",
    "downstream from your dock, and carry it back to your dock. At what point along the far\n",
    "bank should you aim Wavey so that it exactly meets your friend at the opposite dock?"
   ]
  },
  {
   "cell_type": "markdown",
   "metadata": {},
   "source": [
    "### Solution\n",
    "First trip we have\n",
    "\\begin{align}\n",
    "v:& \\quad vt_0 = 100 \\text m \\\\\n",
    "c:& \\quad ct_0 = 60 \\text m\n",
    "\\end{align}\n",
    "resulting in $c/v = 0.6$.\n",
    "\n",
    "Now for the next trip\n",
    "\\begin{align}\n",
    "v:& \\quad vt_1 = \\sqrt{100^2+x^2} \\\\\n",
    "c:& \\quad ct_1 = x\n",
    "\\end{align}\n",
    "resulting in \n",
    "$x = 75 \\text m$."
   ]
  },
  {
   "cell_type": "markdown",
   "metadata": {},
   "source": [
    "# [Episode 9: Geometry](https://www.janestreet.com/real-numbers/episode-09/)\n",
    "\n",
    "## [Crossing the River 2: Wavey’s Revenge!](https://www.janestreet.com/static/pdfs/real-numbers/RN_PDF_09.pdf)\n",
    "\n",
    "Episode 9: Geometry\n",
    "Crossing the River 2: Wavey’s Revenge!\n",
    "The set up is the same as last week: you are at a river whose banks are parallel lines 100\n",
    "meters apart, and the river flows downstream at a constant rate at all points. You stand\n",
    "on one dock, and your friend stands on another dock exactly across the river with your\n",
    "toy boat Wavey. When Wavey is in the water, its motor pushes it in whatever direction\n",
    "it’s facing at a constant rate, and the flow of the water pulls the boat downstream at a\n",
    "different constant rate. Your friend points the toy boat at you and places it in the water,\n",
    "but due to the water flow, you need to walk 60 meters downstream to meet the boat\n",
    "when it reaches your bank. Now, instead of walking back to your dock to send the toy boat\n",
    "back, you want to just release it here, 60 meters downstream, but point it so that it exactly\n",
    "meets your friend’s dock. At what point on the opposite shore should you aim Wavey?"
   ]
  },
  {
   "cell_type": "markdown",
   "metadata": {},
   "source": [
    "### Solution\n",
    "\\begin{align}\n",
    "v:& \\quad vt = \\sqrt{100^2 + (x+60)^2} \\\\\n",
    "c:& \\quad ct = x\n",
    "\\end{align}\n",
    "resulting in \n",
    "$x = \\frac{255}{2} \\ = 127.5 \\text m$."
   ]
  },
  {
   "cell_type": "markdown",
   "metadata": {},
   "source": [
    "# [Episode 10: Geometry](https://www.janestreet.com/real-numbers/episode-10/)\n",
    "\n",
    "## [The Art Thief at The Window](https://www.janestreet.com/static/pdfs/real-numbers/RN_PDF_10.pdf)\n",
    "\n",
    "The curator of an art museum discovered that the lock on a springline window in one of\n",
    "the display rooms is broken. The shape of the window is a square of side length 1 meter\n",
    "with a semicircle on top whose diameter the top of the square. The art museum houses\n",
    "several valuable paintings that come in various large rectangular shapes; all the paintings\n",
    "are about 3 meters wide, and have differing heights. For the purposes of this problem we\n",
    "can assume that the framed paintings are 2-dimensional, but cannot be removed from\n",
    "their frames to be bent or folded. In order to select the works to house in the room, the\n",
    "curator wants to know the answer to the Problem of the Week: What is the tallest frame\n",
    "that an art thief could slide out of the window when it is wide open? "
   ]
  },
  {
   "cell_type": "markdown",
   "metadata": {},
   "source": [
    "### Solution\n",
    "$x = \\sqrt{1^2 + \\left(\\tfrac{1}{2}\\right)^2} + \\tfrac{1}{2} = \\frac{1 + \\sqrt{5}}{2} \\approx = 1.618 \\; \\text m$,\n",
    "which is the golden ratio...\n"
   ]
  },
  {
   "cell_type": "markdown",
   "metadata": {},
   "source": [
    "# [Episode 11: Expected Value](https://www.janestreet.com/real-numbers/episode-11/)\n",
    "\n",
    "## [The Unknown Monster](https://www.janestreet.com/static/pdfs/real-numbers/RN_PDF_11.pdf)\n",
    "\n",
    "You are exploring a haunted forest in a video game. The monsters in the haunted forest\n",
    "are of three difficulty classes, each equally likely to be encountered: Timid, Aggressive,\n",
    "and Deadly. When a Timid monster attacks, it deals between 1 and 6 damage uniformly,\n",
    "that is each outcome has equal probability, 1/6 in this case. An Aggressive monster deals\n",
    "between 1 and 12 damage uniformly, and a Deadly monster deals between 1 and 20\n",
    "damage uniformly. However, the different difficulty class monsters all look identical. You\n",
    "enter a clearing in the haunted forest and a monster of unknown difficulty class attacks\n",
    "you. The Problem of the Week: on average, how much damage will this attack deal?\n",
    "\n",
    "Bonus Problem of the Week: let’s say this very monster deals 4 damage with its first\n",
    "attack. On average, how much damage will a second attack from that same monster deal?"
   ]
  },
  {
   "cell_type": "markdown",
   "metadata": {},
   "source": [
    "### Solution\n",
    "\n",
    "And the monster is chosen as $M \\sim U\\{1,3\\}$, where $1=\\text{Timid}$, $2=\\text{Aggressive}$, $3=\\text{Deadly}$.\n",
    "The damage $D$ is then\n",
    "\n",
    "$\\{D|M=1\\} \\sim U\\{1,6\\}$\n",
    "\n",
    "$\\{D|M=2\\} \\sim U\\{1,12\\}$\n",
    "\n",
    "$\\{D|M=3\\} \\sim U\\{1,20\\}$\n",
    "\n",
    "Now let $\\mu_i := \\mathbb{E}[D|M=i]$ denote the mean, and $p_i(d) := \\Pr(D=d|M=i)$ denote the probability mass function, and $d \\in\\Omega_i$ the support.\n",
    "\n",
    "The stochastic damage is\n",
    "\n",
    "$D = \\sum_{i=1}^3 \\{D|M=i\\} \\cdot \\mathbb{1}\\{M=i\\}$,\n",
    "and taking expectations yields\n",
    "\n",
    "$\\mathbb{E}[D] = \\frac{1}{3}(\\frac{1+6}{2} + \\frac{1+12}{2} + \\frac{1+20}{2}) = \\frac{41}{6} \\approx 6.83$.\n",
    "\n",
    "#### Bonus\n",
    "\n",
    "$\\mathbb{E}[D_2|D_1=d] = \\sum_i \\mathbb{E}[D_2|D_1=d, M=i]\\cdot \\Pr(M=i | D_1=d) = \\sum_i \\mathbb{E}[D_2|M=i]\\cdot \\mathcal{1}\\{d\\in \\Omega_i\\} \\cdot \\Pr(M=i | D_1=d) $.\n",
    "\n",
    "Now using Baye's $\\Pr(M=i | D_1=d) = \\frac{\\Pr(D_1=d|M=i)\\Pr(M=i)}{\\sum_k \\Pr(D_1=d|M=k)\\Pr(M=k)} = \\frac{p_i(d)}{\\sum_k p_k(d)}$,\n",
    "\n",
    "we can write $\\mathbb{E}[D_2|D_1=d] =  \\frac{\\sum_i \\mu_i \\cdot p_i(d)}{\\sum_k p_k(d)}$,\n",
    "\n",
    "such that\n",
    "\n",
    "\n",
    "$\\mathbb{E}[D_2|1\\leq D_1 \\leq 6] = \\left(\\frac{7}{2}\\cdot \\frac{1}{6} + \\frac{13}{2}\\cdot \\frac{1}{12} + \\frac{21}{2}\\cdot \\frac{1}{20}\\right) / \\left(\\frac{1}{6} + \\frac{1}{12} + \\frac{1}{20}\\right) = 5.5$,\n",
    "\n",
    "$\\mathbb{E}[D_2|7\\leq D_1 \\leq 12] = \\left(\\frac{13}{2}\\cdot \\frac{1}{12} + \\frac{21}{2}\\cdot \\frac{1}{20}\\right) / \\left(\\frac{1}{12} + \\frac{1}{20}\\right) = 8$,\n",
    "\n",
    "$\\mathbb{E}[D_2|13\\leq D_1 \\leq 20] = \\left(\\frac{21}{2}\\cdot \\frac{1}{20}\\right) / \\left(\\frac{1}{20}\\right) = 10.5$."
   ]
  },
  {
   "cell_type": "markdown",
   "metadata": {},
   "source": [
    "# [Episode 12: Expected Value](https://www.janestreet.com/real-numbers/episode-12/)\n",
    "\n",
    "## [Photographing the Chaotic Marching Band](https://www.janestreet.com/static/pdfs/real-numbers/RN_PDF_12.pdf)\n",
    "\n",
    "You’re tasked with photographing your school’s marching band, and you want to get a\n",
    "shot of a row of the band marching in perfect step. The 40 members of the band are\n",
    "arranged into 10 rows of 4 marchers. Each band member starts marching on either their\n",
    "left or right foot, 50-50 chance. If you are positioned to take a picture of all 10 rows of\n",
    "the band as they march by, what is the expected value of the number of in-step rows you\n",
    "will photograph?\n",
    "\n",
    "Bonus Problem of the Week: What if instead the 40 band members were evenly split into\n",
    "20 band members that start marching on their left foot, and 20 band members that start\n",
    "marching on their right foot? These 40 members are then randomly sorted into 10 rows\n",
    "of 4 musicians. What is the expected number of in-step rows in this case?"
   ]
  },
  {
   "cell_type": "markdown",
   "metadata": {},
   "source": [
    "### Solution\n",
    "Let $N_r$ be the number of rows and $N_m$ the number of marchers in each row.\n",
    "\n",
    "\n",
    "The probability that one row is in sync is $\\Pr(\\text{row sync}) = \\left(\\frac{1}{2}\\right)^{N_m-1}$\n",
    "and the expected number of synced rows is $N_r \\cdot \\Pr(\\text{row sync}) = N_r \\left(\\frac{1}{2}\\right)^{N_m-1} = 10/8 = 1.25$.\n",
    "\n",
    "#### Bonus\n",
    "$\\Pr(\\text{sync row}) = \\frac{40}{40}\\frac{19}{39}\\frac{18}{38}\\frac{17}{37} = \\frac{51}{481} \\approx 0.106$.\n",
    "\n",
    "$\\mathbb{E}[\\sum_1^{10} \\mathbb{1}\\{\\text{sync row}\\}] = 10\\cdot \\Pr(\\text{sync row})=1.06$.\n"
   ]
  },
  {
   "cell_type": "markdown",
   "metadata": {},
   "source": [
    "# [Episode 13: Expected Value](https://www.janestreet.com/real-numbers/episode-13/)\n",
    "\n",
    "## [How Many Snowboards Need Sharpening?](https://www.janestreet.com/static/pdfs/real-numbers/RN_PDF_13.pdf)\n",
    "\n",
    "Rachel gives one-on-one snowboarding lessons. For the first six days of each week,\n",
    "Rachel’s student chooses one of her six available snowboards to use, at random. Then,\n",
    "on the last day of each week, she sharpens every snowboard that was used at least once\n",
    "that week.\n",
    "\n",
    "What is the expected number of snowboards she needs to sharpen at the end\n",
    "of each week?"
   ]
  },
  {
   "cell_type": "markdown",
   "metadata": {},
   "source": [
    "### Solution\n",
    "\n",
    "Let $X_i \\sim Bern(p_i)$, $i=1,...,n_s$ indicate whether snowboard $i$ was picked on any one day. The number of times snowboard $i$ was picked during $n_d$ days is then $Y_i = \\sum_{k=1}^{n_d} \\left(X_i\\right)_k \\sim Binom(n_d, p_i)$. The probabiltiy that it was picked at least once is given by $1 - \\Pr(Y_i=0) = 1 - (1-p_i)^{n_d}$\n",
    "\n",
    "With $p_i=1/n_s$, the number of unique snowboards picked is then\n",
    "\n",
    "$\\mathbb{E}[\\text{#sharpen}] = \\mathbb{E}\\left[\\sum_i^{n_s} \\mathbb{1}\\{Y_i \\geq 1\\}\\right] = \\sum_i^{n_s} \\left(1 - \\Pr(Y_i=0)\\right) = n_s- \\sum_{i=1}^{n_s}\\left(1-p_i\\right)^{n_d} = n_s\\left(1-(1-1/n_s)^{n_d}\\right) = 6\\cdot(1-(1-1/6)^6) \\approx 3.99$."
   ]
  },
  {
   "cell_type": "markdown",
   "metadata": {},
   "source": [
    "# [Episode 14: Expected Value](https://www.janestreet.com/real-numbers/episode-14/)\n",
    "\n",
    "## [Finals Week](https://www.janestreet.com/static/pdfs/real-numbers/RN_PDF_14.pdf)\n",
    "\n",
    "Jayden has two finals that will each be scheduled on a random weekday of finals week,\n",
    "Monday through Friday, independently. Jayden wants to know the expected number\n",
    "of days between his two finals. In the case they are on the same day, the result would\n",
    "be 0, and if one was on Tuesday and one on Friday, the result would be 3.\n",
    "\n",
    "What is the\n",
    "expected value of the number of days between Jayden’s two finals?\n",
    "\n",
    "Bonus Problem of the Week: What if instead Jayden has three finals, and he wants to\n",
    "know the expected number of days between his first final and his last final?\n"
   ]
  },
  {
   "cell_type": "markdown",
   "metadata": {},
   "source": [
    "#### Brute force\n",
    "Equal probability for any combination to occur, that is $\\left(\\frac{1}{5}\\right)^2$ so the distance will be\n",
    "\n",
    "$\\mathbb{E}[D] = \\frac{1}{5^2} \\sum_{i=1}^5 \\sum_{k=1}^5  |i-k| = \\frac{1}{5^2} \\sum_{i=1}^{5} 2\\cdot (5-i) = 1.6$.\n",
    "\n",
    "#### General\n",
    "Final $i$ occurs on day $X_i \\sim U[1,d]$. Let $f$ be the number of finals, then the expected distance is\n",
    "\n",
    "$\\mathbb{E}[D] = \\mathbb{E}\\left[X_{(f)}-X_{(1)}\\right] = \\mathbb{E}\\left[X_{(f)}\\right]-\\mathbb{E}\\left[X_{(1)}\\right] = \\left(\\frac{1}{d}\\right)^{f} \\left( \\sum_k k\\cdot (k^{f} - (k-1)^{f}) - k\\cdot (d-k+1)^f + k\\cdot (d-k)^f \\right)$\n",
    "\n",
    "With $f=2$ and arbitrary $d$ we get $\\mathbb{E}[D] = \\frac{10\\cdot(19-3d)}{d^2}$. With $d=5$ we get 1.6.\n",
    "\n",
    "#### Bonus\n",
    "With $f=3$ and arbitrary $d$ we get $\\mathbb{E}[D] = \\frac{15\\cdot (19-3d)}{d^2}$. With $d=5$ we get 2.4."
   ]
  },
  {
   "cell_type": "markdown",
   "metadata": {},
   "source": [
    "# [Episode 15: Expected Value](https://www.janestreet.com/real-numbers/episode-15/)\n",
    "\n",
    "## [The Half-Court Shot](https://www.janestreet.com/static/pdfs/real-numbers/RN_PDF_15.pdf)\n",
    "\n",
    "At the end of every basketball practice, Danielle shoots half-court shots until she makes\n",
    "one. If she has a 20% chance to make any given half-court shot, what is the expected\n",
    "number of attempts required to make a half-court shot?\n",
    "\n",
    "Bonus Problem of the Week: what if she instead shoots until she makes two in a row?\n",
    "What would be the expected number of attempts before that happens?"
   ]
  },
  {
   "cell_type": "markdown",
   "metadata": {},
   "source": [
    "Success of a shot $X_i \\sim Bern(p)$, where $p=0.2$. Let $Y_N$ be the number of successes in $N$ trials, that is $Y_N = \\sum_{k=1}^N X_i$, and $\\mu_Y = \\mathbb{E}[Y_N] = Np$. \n",
    "\n",
    "For $_mu_Y=1 \\implies N = \\frac{1}{p} = 5$.\n",
    "\n",
    "#### Bonus\n",
    "\n",
    "\n",
    "$f = 2p^2 + p(1-p)(f+2) + (1-p)(f+1) \\implies f = \\frac{1}{p} + \\frac{1}{p^2} = 30$.\n",
    "\n"
   ]
  }
 ],
 "metadata": {
  "kernelspec": {
   "display_name": "Python 3.7.3 64-bit ('ProgramData': virtualenv)",
   "language": "python",
   "name": "python37364bitprogramdatavirtualenv59ae48332b0b4b33804568dd65329faa"
  },
  "language_info": {
   "codemirror_mode": {
    "name": "ipython",
    "version": 3
   },
   "file_extension": ".py",
   "mimetype": "text/x-python",
   "name": "python",
   "nbconvert_exporter": "python",
   "pygments_lexer": "ipython3",
   "version": "3.7.3"
  }
 },
 "nbformat": 4,
 "nbformat_minor": 2
}
