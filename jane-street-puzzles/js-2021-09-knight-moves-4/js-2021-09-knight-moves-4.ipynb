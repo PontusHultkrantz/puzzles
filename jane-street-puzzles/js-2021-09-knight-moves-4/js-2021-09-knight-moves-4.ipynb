{
 "cells": [
  {
   "cell_type": "markdown",
   "metadata": {},
   "source": [
    "Pontus Hultkrantz"
   ]
  },
  {
   "cell_type": "markdown",
   "metadata": {},
   "source": [
    "# [September 2021 : Knight Moves 4](https://www.janestreet.com/puzzles/knight-moves-4-index/)"
   ]
  },
  {
   "cell_type": "code",
   "execution_count": 1,
   "metadata": {},
   "outputs": [
    {
     "data": {
      "text/html": [
       "<img src=\"https://www.janestreet.com/puzzles/2021-09-01-knight-moves-4.png\" width=\"500\" height=\"500\"/>"
      ],
      "text/plain": [
       "<IPython.core.display.Image object>"
      ]
     },
     "execution_count": 1,
     "metadata": {},
     "output_type": "execute_result"
    }
   ],
   "source": [
    "from IPython.display import Image\n",
    "from IPython.core.display import HTML \n",
    "Image(url= \"https://www.janestreet.com/puzzles/2021-09-01-knight-moves-4.png\", width=500, height=500)"
   ]
  },
  {
   "cell_type": "markdown",
   "metadata": {},
   "source": [
    "A knight was initially located in a square labeled 1. It then proceeded to make a series of moves, never re-visiting a square, and labeled the visited squares in order. When the knight was finished, the labeled squares in each region of connected squares1 had the same sum.\n",
    "\n",
    "A short while later, many of the labels were erased. The remaining labels can be seen above.\n",
    "\n",
    "Complete the grid by re-entering the missing labels.\n",
    "\n",
    "The answer to this puzzle is the sum of the squares of the largest label in each row of the completed grid, as in the example.\n",
    "\n",
    "\n",
    "[1]: E.g. the 14 and 33 are in different regions."
   ]
  },
  {
   "cell_type": "markdown",
   "metadata": {},
   "source": [
    "## Methodology\n",
    "\n",
    "Backtracking, with bounds for possible max step.\n",
    "Assuming a $N^2$ grid, with groups $i=1,...,g$, where group i has a current sum of $c_i$ with $r_i$ vacant positions. Let $n\\leq N^2$ be the total number of steps in the solution, and let $s$ be the current maximum step on the board. Sum of all steps is then $S_n=\\sum_{i=1}^n i = 0.5\\cdot (1+n)\\cdot n$ , and the sum per group is $G_n:=S_n/g$ which must be an integer.\n",
    "We want ot find the possible values of $n$, especially the upper bound and group sum $\\{m, G_m\\}$.\n",
    "- Max step must be divisible by number of groups.\n",
    "- The current region sums must be less than or equal to $G_n$.\n",
    "- Given the current maximum observed step $s$ on the board, $n\\geq s$ and so $G_n \\geq G_s$.\n",
    "- The upper bound for each group sum is $c_i + n + (n-1) +... = c_i + r_i\\cdot n - 0.5\\cdot r_i\\cdot(r_i-1)$\n",
    "- If group sums are not equal having filled all steps below $s$, then if adding the current step to any group exceeds the upper bound value $G_m$, then current grid path is invalid."
   ]
  },
  {
   "cell_type": "markdown",
   "metadata": {},
   "source": [
    "##  Driver code"
   ]
  },
  {
   "cell_type": "code",
   "execution_count": 2,
   "metadata": {},
   "outputs": [],
   "source": [
    "import numpy as np\n",
    "import numba\n",
    "    \n",
    "@numba.njit\n",
    "def add_coords(c1, c2):\n",
    "    return [c1[0]+c2[0], c1[1]+c2[1]]\n",
    "    \n",
    "@numba.njit\n",
    "def is_checkpoint(checkpoints, step):\n",
    "    for i in range(len(checkpoints)):\n",
    "        if checkpoints[i] == step:\n",
    "            return True\n",
    "    return False\n",
    "    \n",
    "@numba.njit\n",
    "def valid_move(grid, checkpoints, step, move):\n",
    "    if move[0] < 0 or move[0] >= grid.shape[0]:\n",
    "        return False\n",
    "    elif move[1] < 0 or move[1] >= grid.shape[1]:\n",
    "        return False\n",
    "\n",
    "    grid_node = grid[move[0], move[1]]\n",
    "\n",
    "    if grid_node==0 and not is_checkpoint(checkpoints, step + 1):        \n",
    "        return True\n",
    "    elif grid_node == (step+1):\n",
    "        return True\n",
    "    else:\n",
    "        return False\n",
    "\n",
    "@numba.njit\n",
    "def make_move(grid, step, move):\n",
    "    step += 1\n",
    "    grid[move[0], move[1]] = step\n",
    "    return step\n",
    "    \n",
    "@numba.njit\n",
    "def undo_move(grid, checkpoints, step, move):\n",
    "    if not is_checkpoint(checkpoints, step):\n",
    "        grid[move[0], move[1]] = 0\n",
    "    return step-1 #cannot pass byref and modify\n",
    "    \n",
    "@numba.njit\n",
    "def check_finished(grid, nregions, region, step, max_step_sum):\n",
    "    count = np.zeros(nregions) # sum of values in regions\n",
    "    regsize = np.zeros(nregions) # nbr blank fields in regions\n",
    "    for i in range(grid.shape[0]):\n",
    "        for j in range(grid.shape[1]):\n",
    "            count[region[i, j]] += grid[i, j]\n",
    "            if grid[i, j] <= 0:\n",
    "                regsize[region[i,j]] += 1\n",
    "                \n",
    "                \n",
    "    h_max = np.max(count) # If check if all but the largest will surpas the theoretical maximum\n",
    "    for i in range(len(count)):\n",
    "        if count[i] < h_max:\n",
    "            if count[i] + step >= max_step_sum[1]:\n",
    "                return -1\n",
    "            \n",
    "    step_max = max_step_sum[0]\n",
    "    min_ub = np.min(np.array([count[i] + regsize[i]*step_max -  0.5*regsize[i]*(regsize[i]-1) for i in range(len(count))]))\n",
    "    max_lb = count.max()\n",
    "    if min_ub < max_lb:\n",
    "        return -1\n",
    "\n",
    "    if np.all(count == count[0]): # If all regions same sum, we found solution.\n",
    "        return 0\n",
    "    else:\n",
    "        return 1 # Continue steppinig\n",
    "\n",
    "@numba.jit\n",
    "def _solve_rec(pos, grid, checkpoints, step, nregions, region, max_step_sum):\n",
    "    finish = check_finished(grid, nregions, region, step, max_step_sum)\n",
    "    if finish == 0:\n",
    "        return True\n",
    "    elif finish == -1:\n",
    "        return False\n",
    "    \n",
    "    deltas = [(r,c) for (r,c) in [(-2,-1),(-2,+1),(-1,-2),(-1,+2),(+1,-2),(+1,+2),(+2,-1),(+2,+1)]]\n",
    "    for d in deltas:\n",
    "        new_pos = np.array(add_coords(pos, d))\n",
    "        if valid_move(grid, checkpoints, step, new_pos):\n",
    "            step = make_move(grid, step, new_pos)\n",
    "            if _solve_rec(new_pos, grid, checkpoints, step, nregions, region, max_step_sum):\n",
    "                return True\n",
    "            else:\n",
    "                step = undo_move(grid, checkpoints, step, new_pos)\n",
    "    return False\n",
    "    \n",
    "    \n",
    "class Game:\n",
    "    def __init__(self, grid, regions):\n",
    "        self.grid = grid.copy()\n",
    "        self.step, self.pos = self._find_start(grid)\n",
    "        self.regions = regions.copy()\n",
    "        self.nregions = regions.max() + 1\n",
    "        self.bold_nodes = grid[grid!=0]\n",
    "    \n",
    "    def _find_start(self, grid):\n",
    "        #step, coord = next((i,e) for (i,e) in enumerate(self.tape) if e)\n",
    "        tmp = np.argwhere(grid==1)\n",
    "        if len(tmp) == 0:\n",
    "            raise ValueError(\"Start pos cound't be found\")\n",
    "        return 1, tmp[0]\n",
    "        \n",
    "    def _possible_max_steps(self):\n",
    "        n_max_ub = self.grid.shape[0]*self.grid.shape[1]\n",
    "        n_max_lb = self.grid.max()\n",
    "        n_groups = self.nregions\n",
    "\n",
    "        def tot_board_sum(n):\n",
    "            return int((1+n)*n / 2)\n",
    "        def group_sum(n_max):\n",
    "            return int(0.5*(1+n_max)*n_max / n_groups)\n",
    "\n",
    "        def divisible(n):\n",
    "            return tot_board_sum(n) % n_groups == 0\n",
    "\n",
    "        def get_group_stats():\n",
    "            grp_sums = np.zeros(n_groups) # sum of values in regions\n",
    "            grp_vacants = np.zeros(n_groups) # nbr blank fields in regions\n",
    "            for i in range(self.grid.shape[0]):\n",
    "                for j in range(self.grid.shape[1]):\n",
    "                    grp_sums[self.regions[i, j]] += self.grid[i, j]\n",
    "                    if self.grid[i, j] <= 0:\n",
    "                        grp_vacants[self.regions[i,j]] += 1\n",
    "            return grp_sums, grp_vacants\n",
    "\n",
    "        all_comb = [i for i in range(n_max_lb, n_max_ub+1)]\n",
    "        grp_sums, grp_vacants = get_group_stats()\n",
    "\n",
    "        def is_within_bounds(n_max):\n",
    "            lb = grp_sums\n",
    "            ub = np.zeros(n_groups)\n",
    "            for i in range(len(grp_sums)):\n",
    "                ub[i] = grp_sums[i] + grp_vacants[i]*n_max -  0.5*grp_vacants[i]*(grp_vacants[i]-1)\n",
    "            min_ub = np.min(ub)\n",
    "            max_lb = np.max(lb)\n",
    "            return min_ub >= max_lb and max_lb <= group_sum(n_max) <= min_ub\n",
    "\n",
    "        return [(i, group_sum(i)) for i in all_comb if divisible(i) and is_within_bounds(i)]\n",
    "        \n",
    "    def solve(self):\n",
    "        max_steps = self._possible_max_steps()\n",
    "        return _solve_rec(self.pos, self.grid, self.bold_nodes, self.step, self.nregions, self.regions, max_steps[-1])\n"
   ]
  },
  {
   "cell_type": "markdown",
   "metadata": {},
   "source": [
    "## Code for plotting solution matrix"
   ]
  },
  {
   "cell_type": "code",
   "execution_count": 3,
   "metadata": {},
   "outputs": [],
   "source": [
    "import numpy as np\n",
    "from matplotlib import pyplot as plt\n",
    "def plot_solution(initial_grid, solution_grid, regions, regcolor):\n",
    "    n_rows, n_cols = initial_grid.shape\n",
    "    colorgrid = np.zeros(shape=(regions.shape[0], regions.shape[1], 3), dtype=int)\n",
    "    # region number to color code\n",
    "    #regcolor = {'y':[0, 11, 13, 12, 14, 15], 'p':[1, 2, 3, 4, 5], 'g':[9, 10, 11], 'b':[6, 7, 8, 16]}\n",
    "    # color code to rgb\n",
    "    colormap = {'y':(255,255,153), 'p':(255,224,246), 'g':(157,244,139), 'b':(167,232,255)}\n",
    "    # Create N x N x 3 grid with rgb values\n",
    "    for ccode,regs in regcolor.items():\n",
    "        rgb = colormap[ccode]\n",
    "        for r in regs:\n",
    "            q = np.where(regions==r)\n",
    "            colorgrid[q[0], q[1]] = rgb\n",
    "\n",
    "    fig, ax = plt.subplots(1,1, figsize=(6, 6))\n",
    "    ax.imshow(colorgrid)\n",
    "\n",
    "    # Edge lines\n",
    "    ax.hlines(y=np.arange(0, n_cols)+0.5, xmin=np.full(n_rows, 0)-0.5, xmax=np.full(n_cols, n_cols)-0.5, color=\"black\", lw=0.5)\n",
    "    ax.vlines(x=np.arange(0, n_cols)+0.5, ymin=np.full(n_rows, 0)-0.5, ymax=np.full(n_rows, n_rows)-0.5, color=\"black\", lw=0.5)\n",
    "\n",
    "    # Solition numbers.\n",
    "    for i in range(colorgrid.shape[0]):\n",
    "        for j in range(colorgrid.shape[1]):\n",
    "            if initial_grid[i, j] != 0:\n",
    "                ax.text(j, i, solution_grid[i, j], ha=\"center\", va=\"center\", color=\"k\", fontsize=16, weight='bold')\n",
    "            elif solution_grid[i, j] != 0:\n",
    "                ax.text(j, i, solution_grid[i, j], ha=\"center\", va=\"center\", color=\"k\", fontsize=16)\n",
    "    ax.xaxis.set_visible(False)\n",
    "    ax.yaxis.set_visible(False)\n",
    "    plt.show()\n",
    "    row_max = solution_grid.max(axis=1)\n",
    "    s = f\"{'+'.join(f'{s}²' for s in row_max)} = {(row_max**2).sum()}\"\n",
    "    print(s)"
   ]
  },
  {
   "cell_type": "markdown",
   "metadata": {},
   "source": [
    "## Example Grid"
   ]
  },
  {
   "cell_type": "code",
   "execution_count": 4,
   "metadata": {
    "scrolled": false
   },
   "outputs": [
    {
     "name": "stdout",
     "output_type": "stream",
     "text": [
      "Wall time: 0 ns\n"
     ]
    },
    {
     "data": {
      "image/png": "[encoded data removed]",
      "text/plain": [
       "<Figure size 432x432 with 1 Axes>"
      ]
     },
     "metadata": {
      "needs_background": "light"
     },
     "output_type": "display_data"
    },
    {
     "name": "stdout",
     "output_type": "stream",
     "text": [
      "3²+4²+7²+8²+9² = 219\n"
     ]
    }
   ],
   "source": [
    "import numpy as np\n",
    "\n",
    "ex_grid = np.array(\n",
    "    [\n",
    "        [1, 0, 0, 0, 0],\n",
    "        [0, 0, 0, 0, 4],\n",
    "        [0, 0, 0, 0, 0],\n",
    "        [0, 0, 0, 0, 0],\n",
    "        [0, 6, 0, 0, 0]\n",
    "    ])\n",
    "ex_regions = np.array(\n",
    "    [\n",
    "        [0, 0, 0, 0, 0],\n",
    "        [0, 0, 0, 0, 0],\n",
    "        [0, 1, 0, 0, 0],\n",
    "        [1, 1, 1, 1, 0],\n",
    "        [1, 2, 2, 0, 0]\n",
    "    ])\n",
    "regcolor = {'y':[0], 'p':[2], 'g':[], 'b':[1]}\n",
    "\n",
    "gg = Game(ex_grid, ex_regions)\n",
    "_ = gg.solve() # precompile\n",
    "%time succ = gg.solve()\n",
    "if succ:\n",
    "    plot_solution(ex_grid, gg.grid, ex_regions, regcolor)"
   ]
  },
  {
   "cell_type": "markdown",
   "metadata": {},
   "source": [
    "## Main grid"
   ]
  },
  {
   "cell_type": "code",
   "execution_count": 5,
   "metadata": {},
   "outputs": [
    {
     "name": "stdout",
     "output_type": "stream",
     "text": [
      "Wall time: 621 ms\n"
     ]
    },
    {
     "data": {
      "image/png": "[encoded data removed]",
      "text/plain": [
       "<Figure size 432x432 with 1 Axes>"
      ]
     },
     "metadata": {
      "needs_background": "light"
     },
     "output_type": "display_data"
    },
    {
     "name": "stdout",
     "output_type": "stream",
     "text": [
      "12²+23²+17²+24²+50²+48²+49²+45²+46²+44² = 14820\n"
     ]
    }
   ],
   "source": [
    "def get_large_inp():\n",
    "    grid = np.array(\n",
    "        [\n",
    "            [12,  0,  0,  0,  0,  0,  0,  0,  0,  0],\n",
    "            [ 0,  0,  0,  0,  0,  0,  5,  0, 23,  0],\n",
    "            [ 0,  0,  0,  0,  0,  0,  8,  0,  0,  0],\n",
    "            [ 0,  0,  0, 14,  0,  0,  0,  0,  0,  0],\n",
    "            [ 0,  0,  0,  0,  0,  0,  0,  0,  0,  0],\n",
    "            [ 0,  2,  0,  0,  0,  0,  0,  0,  0,  0],\n",
    "            [ 0,  0,  0,  0, 20,  0,  0,  0,  0,  0],\n",
    "            [ 0,  0,  0,  0, 33,  0,  0,  0,  0,  0],\n",
    "            [ 0,  0,  0,  0,  0,  0,  0,  0,  0,  0],\n",
    "            [ 0,  0,  0,  0,  0,  0,  0,  0,  0, 28]])\n",
    "    regions = np.array(\n",
    "        [\n",
    "            [ 0,  0,  0,  0,  0,  0,  0,  0,  0,  0],\n",
    "            [ 0,  0,  0,  1,  0,  0,  0,  0,  2,  0],\n",
    "            [ 0,  0,  0,  1,  0,  0,  0,  0,  2,  0],\n",
    "            [ 0,  0,  1,  1,  1,  1,  6,  2,  2,  2],\n",
    "            [ 5,  0,  1,  0,  0,  9,  6,  6,  6,  6],\n",
    "            [ 5,  0,  0,  0,  9,  9,  9,  3,  3,  6],\n",
    "            [ 5,  8,  8,  4,  9, 12, 12,  3,  3, 14],\n",
    "            [ 5, 11,  8,  4,  4, 16, 16, 16,  3, 14],\n",
    "            [ 5, 11, 15,  4, 13, 13, 13, 10, 10, 14],\n",
    "            [11, 11, 15,  7,  7,  7,  7,  7, 10, 14]])\n",
    "    regcolor = {'y':[0, 11, 13, 12, 14, 15], 'p':[1, 2, 3, 4, 5], 'g':[9, 10, 11], 'b':[6, 7, 8, 16]}\n",
    "    return grid, regions, regcolor\n",
    "\n",
    "grid, regions, regcolor = get_large_inp()\n",
    "\n",
    "start_pos = [(3,0), (3,2), (4,3), (6,3), (7,0), (7,2)]\n",
    "for x,y in start_pos:\n",
    "    grid, regions, regcolor = get_large_inp()\n",
    "    grid[x,y]=1\n",
    "    gg = Game(grid, regions)\n",
    "    %time succ = gg.solve()\n",
    "    if succ:\n",
    "        plot_solution(grid, gg.grid, regions, regcolor)\n",
    "        break"
   ]
  }
 ],
 "metadata": {
  "kernelspec": {
   "display_name": "Python 3.7.3 64-bit ('ProgramData': virtualenv)",
   "language": "python",
   "name": "python37364bitprogramdatavirtualenv59ae48332b0b4b33804568dd65329faa"
  },
  "language_info": {
   "codemirror_mode": {
    "name": "ipython",
    "version": 3
   },
   "file_extension": ".py",
   "mimetype": "text/x-python",
   "name": "python",
   "nbconvert_exporter": "python",
   "pygments_lexer": "ipython3",
   "version": "3.7.3"
  }
 },
 "nbformat": 4,
 "nbformat_minor": 2
}
